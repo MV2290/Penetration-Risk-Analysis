{
  "nbformat": 4,
  "nbformat_minor": 0,
  "metadata": {
    "colab": {
      "provenance": [],
      "toc_visible": true,
      "authorship_tag": "ABX9TyOtXX2bnbQkncLAJaoszeW+",
      "include_colab_link": true
    },
    "kernelspec": {
      "name": "python3",
      "display_name": "Python 3"
    },
    "language_info": {
      "name": "python"
    }
  },
  "cells": [
    {
      "cell_type": "markdown",
      "metadata": {
        "id": "view-in-github",
        "colab_type": "text"
      },
      "source": [
        "<a href=\"https://colab.research.google.com/github/MV2290/Penetration-Risk-Analysis/blob/main/Analysis_Penetration_Count.ipynb\" target=\"_parent\"><img src=\"https://colab.research.google.com/assets/colab-badge.svg\" alt=\"Open In Colab\"/></a>"
      ]
    },
    {
      "cell_type": "markdown",
      "source": [
        "# Setup"
      ],
      "metadata": {
        "id": "trmdkH7g6lYF"
      }
    },
    {
      "cell_type": "code",
      "execution_count": null,
      "metadata": {
        "id": "Y_gSlUAb5py9"
      },
      "outputs": [],
      "source": [
        "import pandas as pd"
      ]
    },
    {
      "cell_type": "code",
      "source": [
        "file_path = r''\n",
        "raw_data = pd.read_excel(file_path)"
      ],
      "metadata": {
        "id": "QXdZMwJa515g"
      },
      "execution_count": null,
      "outputs": []
    },
    {
      "cell_type": "markdown",
      "source": [
        "# Filters"
      ],
      "metadata": {
        "id": "_0v8IS-26h0V"
      }
    },
    {
      "cell_type": "code",
      "source": [
        "Milestone = 'TBD'\n",
        "Category = 'K07'\n",
        "Type = 'WALL'"
      ],
      "metadata": {
        "id": "7GbaPM_F57A5"
      },
      "execution_count": null,
      "outputs": []
    },
    {
      "cell_type": "markdown",
      "source": [
        "# Count"
      ],
      "metadata": {
        "id": "hzLJttQ-6ePj"
      }
    },
    {
      "cell_type": "code",
      "source": [
        "countR1 = raw_data[(raw_data['Milestone'] == Milestone) &\n",
        "                 (raw_data['Range'] == 'R1') &\n",
        "                 (raw_data['Category'] == Category) &\n",
        "                 (raw_data['Type'] == Type)\n",
        "    ]\n",
        "countR2 = raw_data[(raw_data['Milestone'] == Milestone) &\n",
        "                 (raw_data['Range'] == 'R2') &\n",
        "                 (raw_data['Category'] == Category) &\n",
        "                 (raw_data['Type'] == Type)\n",
        "    ]\n",
        "countR3 = raw_data[(raw_data['Milestone'] == Milestone) &\n",
        "                 (raw_data['Range'] == 'R3') &\n",
        "                 (raw_data['Category'] == Category) &\n",
        "                 (raw_data['Type'] == Type)\n",
        "    ]\n",
        "print(countR1.shape[0],countR2.shape[0],countR3.shape[0])"
      ],
      "metadata": {
        "id": "RawcsxIX6BQ6"
      },
      "execution_count": null,
      "outputs": []
    }
  ]
}